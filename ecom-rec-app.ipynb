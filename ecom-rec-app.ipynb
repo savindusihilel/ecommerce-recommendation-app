{
 "cells": [
  {
   "cell_type": "code",
   "execution_count": 1,
   "id": "821ead20-7288-44d3-9834-d066b52c7ab7",
   "metadata": {},
   "outputs": [],
   "source": [
    "# loading packages and libraries\n",
    "\n",
    "import os\n",
    "import pandas as pd\n",
    "import numpy as np\n",
    "import matplotlib.pyplot as plt\n",
    "import seaborn as sns\n",
    "from sklearn.metrics.pairwise import cosine_similarity\n",
    "from sklearn.feature_extraction.text import TfidfVectorizer\n",
    "from scipy.sparse import coo_matrix"
   ]
  },
  {
   "cell_type": "markdown",
   "id": "5ddfac0f-8065-4cd0-b937-8ced1127f556",
   "metadata": {},
   "source": [
    "# Data Loading and Preprocessing"
   ]
  },
  {
   "cell_type": "code",
   "execution_count": 2,
   "id": "9a9b6ee3-f841-4eb6-a712-d01567e84497",
   "metadata": {},
   "outputs": [
    {
     "data": {
      "text/plain": [
       "Index(['Uniq Id', 'Crawl Timestamp', 'Dataset Origin', 'Product Id',\n",
       "       'Product Barcode', 'Product Company Type Source',\n",
       "       'Product Brand Source', 'Product Brand Normalised Source',\n",
       "       'Product Name Source', 'Match Rank', 'Match Score', 'Match Type',\n",
       "       'Retailer', 'Product Category', 'Product Brand', 'Product Name',\n",
       "       'Product Price', 'Sku', 'Upc', 'Product Url', 'Market',\n",
       "       'Product Description', 'Product Currency',\n",
       "       'Product Available Inventory', 'Product Image Url',\n",
       "       'Product Model Number', 'Product Tags', 'Product Contents',\n",
       "       'Product Rating', 'Product Reviews Count', 'Bsr', 'Joining Key'],\n",
       "      dtype='object')"
      ]
     },
     "execution_count": 2,
     "metadata": {},
     "output_type": "execute_result"
    }
   ],
   "source": [
    "# reading the dataset into a pandas frame\n",
    "# since we're using a .tsv file, needs to define the seperater\n",
    "walmart_base_data = pd.read_csv('walmart.tsv', sep='\\t')\n",
    "walmart_base_data.columns"
   ]
  },
  {
   "cell_type": "code",
   "execution_count": 3,
   "id": "4a82085b-b4c0-4f18-9473-1b73ea7aa5a5",
   "metadata": {},
   "outputs": [
    {
     "data": {
      "text/html": [
       "<div>\n",
       "<style scoped>\n",
       "    .dataframe tbody tr th:only-of-type {\n",
       "        vertical-align: middle;\n",
       "    }\n",
       "\n",
       "    .dataframe tbody tr th {\n",
       "        vertical-align: top;\n",
       "    }\n",
       "\n",
       "    .dataframe thead th {\n",
       "        text-align: right;\n",
       "    }\n",
       "</style>\n",
       "<table border=\"1\" class=\"dataframe\">\n",
       "  <thead>\n",
       "    <tr style=\"text-align: right;\">\n",
       "      <th></th>\n",
       "      <th>Uniq Id</th>\n",
       "      <th>Product Id</th>\n",
       "      <th>Product Rating</th>\n",
       "      <th>Product Reviews Count</th>\n",
       "      <th>Product Category</th>\n",
       "      <th>Product Brand</th>\n",
       "      <th>Product Name</th>\n",
       "      <th>Product Image Url</th>\n",
       "      <th>Product Description</th>\n",
       "      <th>Product Tags</th>\n",
       "    </tr>\n",
       "  </thead>\n",
       "  <tbody>\n",
       "    <tr>\n",
       "      <th>0</th>\n",
       "      <td>1705736792d82aa2f2d3caf1c07c53f4</td>\n",
       "      <td>2e17bf4acecdece67fc00f07ad62c910</td>\n",
       "      <td>NaN</td>\n",
       "      <td>NaN</td>\n",
       "      <td>Premium Beauty &gt; Premium Makeup &gt; Premium Nail...</td>\n",
       "      <td>OPI</td>\n",
       "      <td>OPI Infinite Shine, Nail Lacquer Nail Polish, ...</td>\n",
       "      <td>https://i5.walmartimages.com/asr/0e1f4c51-c1a4...</td>\n",
       "      <td>NaN</td>\n",
       "      <td>OPI Infinite Shine, Nail Lacquer Nail Polish, ...</td>\n",
       "    </tr>\n",
       "    <tr>\n",
       "      <th>1</th>\n",
       "      <td>95a9fe6f4810fcfc7ff244fd06784f11</td>\n",
       "      <td>076e5854a62dd283c253d6bae415af1f</td>\n",
       "      <td>NaN</td>\n",
       "      <td>NaN</td>\n",
       "      <td>Beauty &gt; Hair Care &gt; Hair Color &gt; Auburn Hair ...</td>\n",
       "      <td>Nice'n Easy</td>\n",
       "      <td>Nice n Easy Permanent Color, 111 Natural Mediu...</td>\n",
       "      <td>https://i5.walmartimages.com/asr/9c8e42e4-13a5...</td>\n",
       "      <td>Pack of 3 Pack of 3 for the UPC: 381519000201 ...</td>\n",
       "      <td>Nice 'n Easy Permanent Color, 111 Natural Medi...</td>\n",
       "    </tr>\n",
       "    <tr>\n",
       "      <th>2</th>\n",
       "      <td>8d4d0330178d3ed181b15a4102b287f2</td>\n",
       "      <td>8a4fe5d9c7a6ed26cc44d785a454b124</td>\n",
       "      <td>4.5</td>\n",
       "      <td>29221.0</td>\n",
       "      <td>Beauty &gt; Hair Care &gt; Hair Color &gt; Permanent Ha...</td>\n",
       "      <td>Clairol</td>\n",
       "      <td>Clairol Nice N Easy Permanent Color 7/106A Nat...</td>\n",
       "      <td>https://i5.walmartimages.com/asr/e3a601c2-6a2b...</td>\n",
       "      <td>This Clairol Nice N Easy Permanent Color gives...</td>\n",
       "      <td>Clairol Nice 'N Easy Permanent Color 7/106A Na...</td>\n",
       "    </tr>\n",
       "    <tr>\n",
       "      <th>3</th>\n",
       "      <td>fddc4df45b35efd886794b261f730c51</td>\n",
       "      <td>03b5fb878a33eadff8b033419eab9669</td>\n",
       "      <td>NaN</td>\n",
       "      <td>NaN</td>\n",
       "      <td>Beauty &gt; Makeup &gt; Lip</td>\n",
       "      <td>Kokie Cosmetics</td>\n",
       "      <td>Kokie Professional Matte Lipstick, Hot Berry, ...</td>\n",
       "      <td>https://i5.walmartimages.com/asr/25b4b467-bc61...</td>\n",
       "      <td>Calling all matte lip lovers! Indulge in our r...</td>\n",
       "      <td>Kokie Professional Matte Lipstick, Hot Berry, ...</td>\n",
       "    </tr>\n",
       "    <tr>\n",
       "      <th>4</th>\n",
       "      <td>0990cf89a59ca6a0460349a3e4f51d42</td>\n",
       "      <td>ce3d761e57d6ccad80619297b5b1bcbc</td>\n",
       "      <td>NaN</td>\n",
       "      <td>131.0</td>\n",
       "      <td>Seasonal &gt; Stock Up Essentials &gt; Personal Care...</td>\n",
       "      <td>Gillette</td>\n",
       "      <td>Gillette TRAC II Plus Razor Blade Refills, Fit...</td>\n",
       "      <td>https://i5.walmartimages.com/asr/1a2ebb06-cd01...</td>\n",
       "      <td>In 1971, Gillette introduced the Trac II razor...</td>\n",
       "      <td>Gillette TRAC II Plus Razor Blade Refills, Fit...</td>\n",
       "    </tr>\n",
       "    <tr>\n",
       "      <th>5</th>\n",
       "      <td>262bcd1c9a561f6c6ad12bfdddc0d99e</td>\n",
       "      <td>7569141059e839b828a5bd3887243c1a</td>\n",
       "      <td>4.6</td>\n",
       "      <td>52.0</td>\n",
       "      <td>Beauty &gt; Hair Care &gt; Hair Care Brands &gt; Old Sp...</td>\n",
       "      <td>Old Spice</td>\n",
       "      <td>Old Spice Artisan Styling High Hold Matte Fini...</td>\n",
       "      <td>https://i5.walmartimages.com/asr/73214b95-72ce...</td>\n",
       "      <td>Old Spice Artisan Molding Clay is a Mens Styli...</td>\n",
       "      <td>Old Spice Artisan Styling High Hold Matte Fini...</td>\n",
       "    </tr>\n",
       "    <tr>\n",
       "      <th>6</th>\n",
       "      <td>05224642381f73764e85a3382ee0ff61</td>\n",
       "      <td>b371dbac1c2d9457f61742c3c39bbdf3</td>\n",
       "      <td>4.3</td>\n",
       "      <td>10.0</td>\n",
       "      <td>Personal Care &gt; Oral Care &gt; Kids Oral Care</td>\n",
       "      <td>Colgate</td>\n",
       "      <td>Colgate My First Baby and Toddler Toothpaste, ...</td>\n",
       "      <td>https://i5.walmartimages.com/asr/d28b16f4-1bd4...</td>\n",
       "      <td>Colgate My First Baby and Toddler Toothpaste i...</td>\n",
       "      <td>Colgate My First Baby and Toddler Toothpaste, ...</td>\n",
       "    </tr>\n",
       "    <tr>\n",
       "      <th>7</th>\n",
       "      <td>b6fb4b2b249da1f93d2f02a6dc62785d</td>\n",
       "      <td>0ae9899c34f93097275ecea00978c67e</td>\n",
       "      <td>NaN</td>\n",
       "      <td>NaN</td>\n",
       "      <td>Beauty &gt; Makeup &gt; Nails</td>\n",
       "      <td>BMC</td>\n",
       "      <td>BMC Bright and Loud Cream Gel Lacquer Polish S...</td>\n",
       "      <td>https://i5.walmartimages.com/asr/93f8bbf3-2dfd...</td>\n",
       "      <td>Lights, Sick Beats, and Epic Gel Polish! We pr...</td>\n",
       "      <td>BMC Bright and Loud Cream Gel Lacquer Polish S...</td>\n",
       "    </tr>\n",
       "    <tr>\n",
       "      <th>8</th>\n",
       "      <td>507bc2f72d878d3fe76ca1557f229215</td>\n",
       "      <td>1007940052235879400000002000000000067565785US</td>\n",
       "      <td>5.0</td>\n",
       "      <td>1.0</td>\n",
       "      <td>Beauty &gt; Hair Care &gt; Hair Care Brands &gt; Suave</td>\n",
       "      <td>Suave</td>\n",
       "      <td>Suave Extra Hold 7 Shaping Mousse 9 oz (Pack o...</td>\n",
       "      <td>https://i5.walmartimages.com/asr/05f5ba16-335d...</td>\n",
       "      <td>Free Shipping Pack of 6 Pack of 6 for the UPC:...</td>\n",
       "      <td>Suave Extra Hold 7 Shaping Mousse 9 oz (Pack o...</td>\n",
       "    </tr>\n",
       "    <tr>\n",
       "      <th>9</th>\n",
       "      <td>32f417078c38d85337779bb999c37e8b</td>\n",
       "      <td>1030521004419479400000002000000000067944214US</td>\n",
       "      <td>NaN</td>\n",
       "      <td>950.0</td>\n",
       "      <td>Health &gt; Lip Care &gt; Vaseline</td>\n",
       "      <td>Vaseline</td>\n",
       "      <td>(3 pack) Vaseline Lip Therapy Tinted Lip Balm ...</td>\n",
       "      <td>https://i5.walmartimages.com/asr/6fced36e-5459...</td>\n",
       "      <td>Vaseline Lip Therapy Lip Balm Mini Rosy is cli...</td>\n",
       "      <td>(3 pack) Vaseline Lip Therapy Tinted Lip Balm ...</td>\n",
       "    </tr>\n",
       "  </tbody>\n",
       "</table>\n",
       "</div>"
      ],
      "text/plain": [
       "                            Uniq Id  \\\n",
       "0  1705736792d82aa2f2d3caf1c07c53f4   \n",
       "1  95a9fe6f4810fcfc7ff244fd06784f11   \n",
       "2  8d4d0330178d3ed181b15a4102b287f2   \n",
       "3  fddc4df45b35efd886794b261f730c51   \n",
       "4  0990cf89a59ca6a0460349a3e4f51d42   \n",
       "5  262bcd1c9a561f6c6ad12bfdddc0d99e   \n",
       "6  05224642381f73764e85a3382ee0ff61   \n",
       "7  b6fb4b2b249da1f93d2f02a6dc62785d   \n",
       "8  507bc2f72d878d3fe76ca1557f229215   \n",
       "9  32f417078c38d85337779bb999c37e8b   \n",
       "\n",
       "                                      Product Id  Product Rating  \\\n",
       "0               2e17bf4acecdece67fc00f07ad62c910             NaN   \n",
       "1               076e5854a62dd283c253d6bae415af1f             NaN   \n",
       "2               8a4fe5d9c7a6ed26cc44d785a454b124             4.5   \n",
       "3               03b5fb878a33eadff8b033419eab9669             NaN   \n",
       "4               ce3d761e57d6ccad80619297b5b1bcbc             NaN   \n",
       "5               7569141059e839b828a5bd3887243c1a             4.6   \n",
       "6               b371dbac1c2d9457f61742c3c39bbdf3             4.3   \n",
       "7               0ae9899c34f93097275ecea00978c67e             NaN   \n",
       "8  1007940052235879400000002000000000067565785US             5.0   \n",
       "9  1030521004419479400000002000000000067944214US             NaN   \n",
       "\n",
       "   Product Reviews Count                                   Product Category  \\\n",
       "0                    NaN  Premium Beauty > Premium Makeup > Premium Nail...   \n",
       "1                    NaN  Beauty > Hair Care > Hair Color > Auburn Hair ...   \n",
       "2                29221.0  Beauty > Hair Care > Hair Color > Permanent Ha...   \n",
       "3                    NaN                              Beauty > Makeup > Lip   \n",
       "4                  131.0  Seasonal > Stock Up Essentials > Personal Care...   \n",
       "5                   52.0  Beauty > Hair Care > Hair Care Brands > Old Sp...   \n",
       "6                   10.0         Personal Care > Oral Care > Kids Oral Care   \n",
       "7                    NaN                            Beauty > Makeup > Nails   \n",
       "8                    1.0      Beauty > Hair Care > Hair Care Brands > Suave   \n",
       "9                  950.0                       Health > Lip Care > Vaseline   \n",
       "\n",
       "     Product Brand                                       Product Name  \\\n",
       "0              OPI  OPI Infinite Shine, Nail Lacquer Nail Polish, ...   \n",
       "1      Nice'n Easy  Nice n Easy Permanent Color, 111 Natural Mediu...   \n",
       "2          Clairol  Clairol Nice N Easy Permanent Color 7/106A Nat...   \n",
       "3  Kokie Cosmetics  Kokie Professional Matte Lipstick, Hot Berry, ...   \n",
       "4         Gillette  Gillette TRAC II Plus Razor Blade Refills, Fit...   \n",
       "5        Old Spice  Old Spice Artisan Styling High Hold Matte Fini...   \n",
       "6          Colgate  Colgate My First Baby and Toddler Toothpaste, ...   \n",
       "7              BMC  BMC Bright and Loud Cream Gel Lacquer Polish S...   \n",
       "8            Suave  Suave Extra Hold 7 Shaping Mousse 9 oz (Pack o...   \n",
       "9         Vaseline  (3 pack) Vaseline Lip Therapy Tinted Lip Balm ...   \n",
       "\n",
       "                                   Product Image Url  \\\n",
       "0  https://i5.walmartimages.com/asr/0e1f4c51-c1a4...   \n",
       "1  https://i5.walmartimages.com/asr/9c8e42e4-13a5...   \n",
       "2  https://i5.walmartimages.com/asr/e3a601c2-6a2b...   \n",
       "3  https://i5.walmartimages.com/asr/25b4b467-bc61...   \n",
       "4  https://i5.walmartimages.com/asr/1a2ebb06-cd01...   \n",
       "5  https://i5.walmartimages.com/asr/73214b95-72ce...   \n",
       "6  https://i5.walmartimages.com/asr/d28b16f4-1bd4...   \n",
       "7  https://i5.walmartimages.com/asr/93f8bbf3-2dfd...   \n",
       "8  https://i5.walmartimages.com/asr/05f5ba16-335d...   \n",
       "9  https://i5.walmartimages.com/asr/6fced36e-5459...   \n",
       "\n",
       "                                 Product Description  \\\n",
       "0                                                NaN   \n",
       "1  Pack of 3 Pack of 3 for the UPC: 381519000201 ...   \n",
       "2  This Clairol Nice N Easy Permanent Color gives...   \n",
       "3  Calling all matte lip lovers! Indulge in our r...   \n",
       "4  In 1971, Gillette introduced the Trac II razor...   \n",
       "5  Old Spice Artisan Molding Clay is a Mens Styli...   \n",
       "6  Colgate My First Baby and Toddler Toothpaste i...   \n",
       "7  Lights, Sick Beats, and Epic Gel Polish! We pr...   \n",
       "8  Free Shipping Pack of 6 Pack of 6 for the UPC:...   \n",
       "9  Vaseline Lip Therapy Lip Balm Mini Rosy is cli...   \n",
       "\n",
       "                                        Product Tags  \n",
       "0  OPI Infinite Shine, Nail Lacquer Nail Polish, ...  \n",
       "1  Nice 'n Easy Permanent Color, 111 Natural Medi...  \n",
       "2  Clairol Nice 'N Easy Permanent Color 7/106A Na...  \n",
       "3  Kokie Professional Matte Lipstick, Hot Berry, ...  \n",
       "4  Gillette TRAC II Plus Razor Blade Refills, Fit...  \n",
       "5  Old Spice Artisan Styling High Hold Matte Fini...  \n",
       "6  Colgate My First Baby and Toddler Toothpaste, ...  \n",
       "7  BMC Bright and Loud Cream Gel Lacquer Polish S...  \n",
       "8  Suave Extra Hold 7 Shaping Mousse 9 oz (Pack o...  \n",
       "9  (3 pack) Vaseline Lip Therapy Tinted Lip Balm ...  "
      ]
     },
     "execution_count": 3,
     "metadata": {},
     "output_type": "execute_result"
    }
   ],
   "source": [
    "# removing unnecessary columns and printing the first 10 rows\n",
    "data = walmart_base_data[['Uniq Id','Product Id', 'Product Rating', 'Product Reviews Count', 'Product Category', 'Product Brand', 'Product Name', 'Product Image Url', 'Product Description', 'Product Tags']].copy()\n",
    "data.head(10)"
   ]
  },
  {
   "cell_type": "code",
   "execution_count": 4,
   "id": "470aea96-f995-4bc0-8382-dd8d348a2f8a",
   "metadata": {},
   "outputs": [
    {
     "data": {
      "text/plain": [
       "(5000, 10)"
      ]
     },
     "execution_count": 4,
     "metadata": {},
     "output_type": "execute_result"
    }
   ],
   "source": [
    "# dataset shape\n",
    "data.shape"
   ]
  },
  {
   "cell_type": "code",
   "execution_count": 5,
   "id": "8eb07a60-d9ac-49d6-bd30-6ace57e38c41",
   "metadata": {},
   "outputs": [
    {
     "data": {
      "text/plain": [
       "Uniq Id                     0\n",
       "Product Id                  0\n",
       "Product Rating           2806\n",
       "Product Reviews Count    1654\n",
       "Product Category           10\n",
       "Product Brand              13\n",
       "Product Name                0\n",
       "Product Image Url           0\n",
       "Product Description      1127\n",
       "Product Tags                0\n",
       "dtype: int64"
      ]
     },
     "execution_count": 5,
     "metadata": {},
     "output_type": "execute_result"
    }
   ],
   "source": [
    "# summarizing the missing values per column\n",
    "data.isna().sum()"
   ]
  },
  {
   "cell_type": "code",
   "execution_count": 6,
   "id": "63828c10-325c-4004-8aa5-9460e3386dbf",
   "metadata": {},
   "outputs": [],
   "source": [
    "# treating missing values with default values\n",
    "\n",
    "# Product Rating --> 0\n",
    "data.loc[:, 'Product Rating'] = data['Product Rating'].fillna(0)\n",
    "\n",
    "# Product Reviews Count --> 0\n",
    "data.loc[:, 'Product Reviews Count'] = data['Product Reviews Count'].fillna(0)\n",
    "\n",
    "# Product Category --> ''\n",
    "data.loc[:, 'Product Category'] = data['Product Category'].fillna('')\n",
    "\n",
    "# Product Brand --> ''\n",
    "data.loc[:, 'Product Brand'] = data['Product Brand'].fillna('')\n",
    "\n",
    "# Product Description --> ''\n",
    "data.loc[:, 'Product Description'] = data['Product Description'].fillna('')"
   ]
  },
  {
   "cell_type": "code",
   "execution_count": 7,
   "id": "8be3f4c8-116d-4f96-a5e4-df303aef1df3",
   "metadata": {},
   "outputs": [
    {
     "data": {
      "text/plain": [
       "Uniq Id                  0\n",
       "Product Id               0\n",
       "Product Rating           0\n",
       "Product Reviews Count    0\n",
       "Product Category         0\n",
       "Product Brand            0\n",
       "Product Name             0\n",
       "Product Image Url        0\n",
       "Product Description      0\n",
       "Product Tags             0\n",
       "dtype: int64"
      ]
     },
     "execution_count": 7,
     "metadata": {},
     "output_type": "execute_result"
    }
   ],
   "source": [
    "# ensuring missing values are handled\n",
    "data.isna().sum()"
   ]
  },
  {
   "cell_type": "code",
   "execution_count": 8,
   "id": "f7ec5a14-9dbb-49f5-a21b-cfead195dfac",
   "metadata": {},
   "outputs": [
    {
     "data": {
      "text/plain": [
       "0"
      ]
     },
     "execution_count": 8,
     "metadata": {},
     "output_type": "execute_result"
    }
   ],
   "source": [
    "# checking for duplicated values\n",
    "data.duplicated().sum()"
   ]
  },
  {
   "cell_type": "code",
   "execution_count": 9,
   "id": "f9c70f62-d61d-41f4-8688-1f0eec8f8f32",
   "metadata": {},
   "outputs": [],
   "source": [
    "# remapping column labels with shorter lables\n",
    "column_name_mapping = {\n",
    "    'Uniq Id': 'Id',\n",
    "    'Product Id': 'ProdId',\n",
    "    'Product Rating': 'Rating',\n",
    "    'Product Reviews Count': 'Reviews',\n",
    "    'Product Category': 'Category',\n",
    "    'Product Brand': 'Brand',\n",
    "    'Product Name': 'Name',\n",
    "    'Product Image Url': 'ImgUrl',\n",
    "    'Product Description': 'Description',\n",
    "    'Product Tags': 'Tags'\n",
    "}\n",
    "\n",
    "# rename the columns using the mapping\n",
    "data.rename(columns=column_name_mapping, inplace=True)"
   ]
  },
  {
   "cell_type": "code",
   "execution_count": 10,
   "id": "8f7147fc-5581-4e64-8da6-0500bb7df64a",
   "metadata": {},
   "outputs": [],
   "source": [
    "# Extract digits from 'Id' and 'ProdId', convert to float\n",
    "\n",
    "data['Id'] = data['Id'].str.extract(r'(\\d+)').astype(float)\n",
    "data['ProdId'] = data['ProdId'].str.extract(r'(\\d+)').astype(float)"
   ]
  },
  {
   "cell_type": "markdown",
   "id": "7c96ebd7-0085-4c18-964c-59b0aea77199",
   "metadata": {},
   "source": [
    "# Exploritory Data Analysis"
   ]
  },
  {
   "cell_type": "code",
   "execution_count": 11,
   "id": "70bce82a-db0b-4ef3-bb49-ccbd392f74b6",
   "metadata": {},
   "outputs": [],
   "source": [
    "# making a copy of the preprocessed data\n",
    "df_proc = data.copy()"
   ]
  },
  {
   "cell_type": "code",
   "execution_count": 12,
   "id": "46126bd1-858e-4529-bdaf-a2223e3c2471",
   "metadata": {},
   "outputs": [
    {
     "name": "stdout",
     "output_type": "stream",
     "text": [
      "Number of unique users:  1721\n",
      "Number of unique products:  1697\n",
      "Number of unique ratings:  36\n"
     ]
    }
   ],
   "source": [
    "# unique values\n",
    "num_users = df_proc['Id'].nunique()\n",
    "num_item = df_proc['ProdId'].nunique()\n",
    "num_ratings = df_proc['Rating'].nunique()\n",
    "print(f'Number of unique users: ', num_users)\n",
    "print(f'Number of unique products: ', num_item)\n",
    "print(f'Number of unique ratings: ', num_ratings)"
   ]
  },
  {
   "cell_type": "code",
   "execution_count": 13,
   "id": "89c36596-72f4-4332-89b3-d6b6f154c107",
   "metadata": {},
   "outputs": [
    {
     "data": {
      "image/png": "[encoded data removed]",
      "text/plain": [
       "<Figure size 1000x800 with 2 Axes>"
      ]
     },
     "metadata": {},
     "output_type": "display_data"
    }
   ],
   "source": [
    "# pivot the dataframe to create a heatmap\n",
    "heatmap_data = df_proc.pivot_table('Id', 'Rating')\n",
    "\n",
    "# display the heatmap\n",
    "plt.figure(figsize=(10, 8))\n",
    "sns.heatmap(heatmap_data, annot=True, fmt='g', cmap='coolwarm', cbar=True)\n",
    "plt.title('Heatmap for User Ratings')\n",
    "plt.xlabel('Ratings')\n",
    "plt.ylabel('User ID')\n",
    "plt.show()"
   ]
  },
  {
   "cell_type": "code",
   "execution_count": 14,
   "id": "1423d63b-855a-48e0-b121-01824d0ee79a",
   "metadata": {},
   "outputs": [
    {
     "data": {
      "image/png": "[encoded data removed]",
      "text/plain": [
       "<Figure size 1400x700 with 2 Axes>"
      ]
     },
     "metadata": {},
     "output_type": "display_data"
    }
   ],
   "source": [
    "# distribution of user interactions\n",
    "\n",
    "plt.figure(figsize=(14, 7))\n",
    "plt.subplot(1, 2, 1)\n",
    "df_proc['Id'].value_counts().hist(bins=10, edgecolor='k', color='green')\n",
    "plt.xlabel('Interactions Per Item')\n",
    "plt.ylabel('Number of Items')\n",
    "plt.title('Distribution of Interactions Per Item')\n",
    "\n",
    "plt.subplot(1, 2, 2)\n",
    "df_proc['ProdId'].value_counts().hist(bins=10, edgecolor='k', color='purple')\n",
    "plt.xlabel('Interactions Per Item')\n",
    "plt.ylabel('Number of Items')\n",
    "plt.title('Distribution of Interactions Per Item')\n",
    "\n",
    "plt.tight_layout()\n",
    "plt.show()"
   ]
  },
  {
   "cell_type": "code",
   "execution_count": 15,
   "id": "ad826a88-c6cf-406a-9c03-9cea211116a7",
   "metadata": {},
   "outputs": [
    {
     "data": {
      "text/plain": [
       "Text(0.5, 1.0, 'Most Popular Items')"
      ]
     },
     "execution_count": 15,
     "metadata": {},
     "output_type": "execute_result"
    },
    {
     "data": {
      "image/png": "[encoded data removed]",
      "text/plain": [
       "<Figure size 640x480 with 1 Axes>"
      ]
     },
     "metadata": {},
     "output_type": "display_data"
    }
   ],
   "source": [
    "# most popular items\n",
    "pop_items = df_proc['ProdId'].value_counts().head()\n",
    "pop_items.plot(kind='bar', color='teal')\n",
    "plt.title('Most Popular Items')"
   ]
  },
  {
   "cell_type": "code",
   "execution_count": 16,
   "id": "53f0e8c1-ca93-4512-8edc-3e9f188c0759",
   "metadata": {},
   "outputs": [
    {
     "data": {
      "text/plain": [
       "<Axes: xlabel='Rating'>"
      ]
     },
     "execution_count": 16,
     "metadata": {},
     "output_type": "execute_result"
    },
    {
     "data": {
      "image/png": "[encoded data removed]",
      "text/plain": [
       "<Figure size 640x480 with 1 Axes>"
      ]
     },
     "metadata": {},
     "output_type": "display_data"
    }
   ],
   "source": [
    "# most rated counts\n",
    "df_proc['Rating'].value_counts().plot(kind='bar', color='lightcoral')"
   ]
  },
  {
   "cell_type": "markdown",
   "id": "b28ad0f5-21e2-4a57-b7cd-0b83093e6ca0",
   "metadata": {},
   "source": [
    "# NLP"
   ]
  },
  {
   "cell_type": "code",
   "execution_count": 17,
   "id": "07ee5fcf-f979-4000-92e8-a19d106c6aa5",
   "metadata": {},
   "outputs": [],
   "source": [
    "# using spacy to extract tags\n",
    "import spacy\n",
    "from spacy.lang.en.stop_words import STOP_WORDS\n",
    "\n",
    "nlp = spacy.load('en_core_web_sm')\n",
    "\n",
    "def extract_tags(text):\n",
    "    doc = nlp(text.lower())\n",
    "    tags = [token.text for token in doc if token.text.isalnum() and token.text not in STOP_WORDS]\n",
    "    return ', '.join(tags)\n",
    "\n",
    "columns_to_extract_tags = ['Category', 'Brand', 'Description']\n",
    "\n",
    "for column in columns_to_extract_tags:\n",
    "    df_proc[column] = df_proc[column].apply(extract_tags)"
   ]
  },
  {
   "cell_type": "code",
   "execution_count": 18,
   "id": "8b8c1702-3b63-4982-863b-61dcb82ecdb2",
   "metadata": {},
   "outputs": [],
   "source": [
    "# creating a new tags column based on category, brand, and description column data\n",
    "df_proc['Tags'] = df_proc[columns_to_extract_tags].apply(lambda row: ', '.join(row), axis=1)"
   ]
  },
  {
   "cell_type": "code",
   "execution_count": 19,
   "id": "1593e8e4-d462-4f6d-89d6-e50933e59777",
   "metadata": {},
   "outputs": [],
   "source": [
    "# saving the data frame to a csv file\n",
    "df_proc.to_csv('data.csv')"
   ]
  },
  {
   "cell_type": "markdown",
   "id": "bf18e3a6-6274-4ace-90e6-5b03e9849757",
   "metadata": {},
   "source": [
    "# Rating-Based Recommendation System"
   ]
  },
  {
   "cell_type": "code",
   "execution_count": 33,
   "id": "518ada65-3844-46b7-9f53-3d7ebcbbb08a",
   "metadata": {},
   "outputs": [],
   "source": [
    "# generating average ratings\n",
    "average_ratings = df_proc.groupby(['Name', 'Reviews', 'Brand', 'ImgUrl'])['Rating'].mean().reset_index()"
   ]
  },
  {
   "cell_type": "code",
   "execution_count": 34,
   "id": "c34262f7-a76b-457c-a1f0-cc013cc87c39",
   "metadata": {},
   "outputs": [],
   "source": [
    "# generating top rated items\n",
    "top_rated_items = average_ratings.sort_values(by='Rating', ascending=False)"
   ]
  },
  {
   "cell_type": "code",
   "execution_count": 37,
   "id": "123efcf4-93b8-461b-911e-6fd74772b8b6",
   "metadata": {},
   "outputs": [],
   "source": [
    "# generating a dataframe based on ratings\n",
    "rating_based_recommendation = top_rated_items.head(10)"
   ]
  },
  {
   "cell_type": "code",
   "execution_count": 41,
   "id": "27e77fd6-ce67-418d-9824-63ec126b1999",
   "metadata": {},
   "outputs": [
    {
     "name": "stdout",
     "output_type": "stream",
     "text": [
      "Rating Base Recommendation System: (Trending Products)\n",
      "                                                   Name  Rating  Reviews  \\\n",
      "1686  Electric Shaver, Triple Shaving Time Electric ...     5.0      4.0   \n",
      "526                 Alaffia Body Lotion, Vanilla, 32 Oz     5.0      2.0   \n",
      "2053  Gold Bond Ultimate Ultimate Healing Lotion, Al...     5.0      2.0   \n",
      "4716  Versace Man Eau Fraiche Eau De Toilette Spray,...     5.0     24.0   \n",
      "2058  Goldwell StyleSign 1 Flat Marvel Straightening...     5.0      2.0   \n",
      "3842  Red Devil 0322 Steel Wool # 00 Very Fine, 8 Pa...     5.0      1.0   \n",
      "510   Air Wick Plug in Starter Kit, Warmer + 1 Refil...     5.0      1.0   \n",
      "3841  Recovery Complex Anti-Frizz Shine Serum by Bai...     5.0      4.0   \n",
      "2687  Long Aid Extra Dry Formula Curl Activator Gel ...     5.0     12.0   \n",
      "2062  Good Sense 60-Day Air Care System, Citrus, 2 o...     5.0      1.0   \n",
      "\n",
      "                Brand                                             ImgUrl  \n",
      "1686           moosoo  https://i5.walmartimages.com/asr/e7dcd553-90df...  \n",
      "526           alaffia  https://i5.walmartimages.com/asr/2988c323-cb6f...  \n",
      "2053       gold, bond  https://i5.walmartimages.com/asr/34b610e7-05db...  \n",
      "4716          versace  https://i5.walmartimages.com/asr/edaaeed5-9da0...  \n",
      "2058         goldwell  https://i5.walmartimages.com/asr/3bf90289-6980...  \n",
      "3842       red, devil  https://i5.walmartimages.com/asr/60bfe5ba-774c...  \n",
      "510         air, wick  https://i5.walmartimages.com/asr/0fac65b2-c6aa...  \n",
      "3841  bain, de, terre  https://i5.walmartimages.com/asr/fcdb4d2e-3727...  \n",
      "2687        long, aid  https://i5.walmartimages.com/asr/f7f29199-bfa5...  \n",
      "2062         diversey  https://i5.walmartimages.com/asr/025a7068-7bb1...  \n"
     ]
    }
   ],
   "source": [
    "print(\"Rating Base Recommendation System: (Trending Products)\")\n",
    "\n",
    "# Converting rating and reviews column types to int\n",
    "rating_based_recommendation.loc[:, 'Rating'] = rating_based_recommendation['Rating'].astype(int)\n",
    "rating_based_recommendation.loc[:, 'Reviews'] = rating_based_recommendation['Reviews'].astype(int)\n",
    "\n",
    "# Print the DataFrame\n",
    "print(rating_based_recommendation[['Name','Rating','Reviews','Brand','ImgUrl']])"
   ]
  },
  {
   "cell_type": "markdown",
   "id": "53070dd8-c306-4cfa-bff3-845ef73bc975",
   "metadata": {},
   "source": [
    "# Content-Based Recommendation System"
   ]
  },
  {
   "cell_type": "code",
   "execution_count": 124,
   "id": "8fc75340-9605-4b5b-930d-ef803dca7345",
   "metadata": {},
   "outputs": [],
   "source": [
    "def get_content_based_recs(datax, item, top_count):\n",
    "    # check if the item name exists in the data\n",
    "    if item not in datax['Name'].values:\n",
    "        print(f\"Item '{item}' not found in the data.\")\n",
    "        return pd.DataFrame()\n",
    "\n",
    "    # create a TF-IDF vectorizer for item descriptions\n",
    "    vectorizer = TfidfVectorizer(stop_words='english')\n",
    "\n",
    "    # apply TF-IDF vectorization to item descriptions\n",
    "    X = vectorizer.fit_transform(datax['Tags'])\n",
    "\n",
    "    # calculating cosine similarities\n",
    "    cs = cosine_similarity(X, X)\n",
    "\n",
    "    # find the index of the item\n",
    "    item_index = datax[datax['Name'] == item].index[0]\n",
    "\n",
    "    # calculate the cosine similarity for the item using the correct item_index\n",
    "    similar_items = list(enumerate(cs[item_index]))\n",
    "\n",
    "    # sort similar items by similarity score in descending order\n",
    "    similar_items = sorted(similar_items, key=lambda x: x[1], reverse=True)\n",
    "\n",
    "    # retrieve the top N most similar items (excluding the item itself)\n",
    "    top_similar_items = similar_items[1: top_count+1]\n",
    "\n",
    "    # retrieve the indices of the top similar items\n",
    "    recommended_items_indices = [x[0] for x in top_similar_items]\n",
    "\n",
    "    # retrieve the details of the top similar items\n",
    "    recommended_items_details = datax.iloc[recommended_items_indices][['Name', 'Reviews', 'Brand', 'ImgUrl', 'Rating']]\n",
    "\n",
    "    return recommended_items_details"
   ]
  },
  {
   "cell_type": "code",
   "execution_count": 125,
   "id": "f7acd410-c72f-43d9-8aa3-ce78e5bb8aa0",
   "metadata": {},
   "outputs": [
    {
     "data": {
      "text/html": [
       "<div>\n",
       "<style scoped>\n",
       "    .dataframe tbody tr th:only-of-type {\n",
       "        vertical-align: middle;\n",
       "    }\n",
       "\n",
       "    .dataframe tbody tr th {\n",
       "        vertical-align: top;\n",
       "    }\n",
       "\n",
       "    .dataframe thead th {\n",
       "        text-align: right;\n",
       "    }\n",
       "</style>\n",
       "<table border=\"1\" class=\"dataframe\">\n",
       "  <thead>\n",
       "    <tr style=\"text-align: right;\">\n",
       "      <th></th>\n",
       "      <th>Name</th>\n",
       "      <th>Reviews</th>\n",
       "      <th>Brand</th>\n",
       "      <th>ImgUrl</th>\n",
       "      <th>Rating</th>\n",
       "    </tr>\n",
       "  </thead>\n",
       "  <tbody>\n",
       "    <tr>\n",
       "      <th>3406</th>\n",
       "      <td>Kokie Professional Matte Lipstick, Firecracker...</td>\n",
       "      <td>0.0</td>\n",
       "      <td>kokie, cosmetics</td>\n",
       "      <td>https://i5.walmartimages.com/asr/8312221b-ed22...</td>\n",
       "      <td>0.0</td>\n",
       "    </tr>\n",
       "    <tr>\n",
       "      <th>546</th>\n",
       "      <td>Kokie Professional Matte Lipstick, Kiss Me, 0....</td>\n",
       "      <td>0.0</td>\n",
       "      <td>kokie, cosmetics</td>\n",
       "      <td>https://i5.walmartimages.com/asr/27dd82a2-2b9c...</td>\n",
       "      <td>0.0</td>\n",
       "    </tr>\n",
       "    <tr>\n",
       "      <th>2406</th>\n",
       "      <td>L.A. Colors Matte Lipstick, Tender Matte</td>\n",
       "      <td>3.0</td>\n",
       "      <td>colors</td>\n",
       "      <td>https://i5.walmartimages.com/asr/271264fb-e8c3...</td>\n",
       "      <td>3.7</td>\n",
       "    </tr>\n",
       "    <tr>\n",
       "      <th>4050</th>\n",
       "      <td>Kokie Professional Lip Poudre Liquid Matte Liq...</td>\n",
       "      <td>7.0</td>\n",
       "      <td>kokie, cosmetics</td>\n",
       "      <td>https://i5.walmartimages.com/asr/fdd7498c-319f...</td>\n",
       "      <td>3.4</td>\n",
       "    </tr>\n",
       "    <tr>\n",
       "      <th>4084</th>\n",
       "      <td>e.l.f. Mad for Matte 4 Piece Lip Color Set</td>\n",
       "      <td>0.0</td>\n",
       "      <td>cosmetics</td>\n",
       "      <td>https://i5.walmartimages.com/asr/e2d30304-edc9...</td>\n",
       "      <td>0.0</td>\n",
       "    </tr>\n",
       "    <tr>\n",
       "      <th>1559</th>\n",
       "      <td>LOreal Paris Colour Riche Matte Lip Liner, Mat...</td>\n",
       "      <td>495.0</td>\n",
       "      <td>paris</td>\n",
       "      <td>https://i5.walmartimages.com/asr/baf97085-7231...</td>\n",
       "      <td>4.4</td>\n",
       "    </tr>\n",
       "    <tr>\n",
       "      <th>2873</th>\n",
       "      <td>Kokie Professional Lip Poudre Liquid Matte Liq...</td>\n",
       "      <td>7.0</td>\n",
       "      <td>kokie, cosmetics</td>\n",
       "      <td>https://i5.walmartimages.com/asr/31c99d9b-ea11...</td>\n",
       "      <td>3.4</td>\n",
       "    </tr>\n",
       "    <tr>\n",
       "      <th>3023</th>\n",
       "      <td>Be Matte Lipstick - Pink</td>\n",
       "      <td>2.0</td>\n",
       "      <td>city, color</td>\n",
       "      <td>https://i5.walmartimages.com/asr/4425a13e-085f...</td>\n",
       "      <td>3.0</td>\n",
       "    </tr>\n",
       "  </tbody>\n",
       "</table>\n",
       "</div>"
      ],
      "text/plain": [
       "                                                   Name  Reviews  \\\n",
       "3406  Kokie Professional Matte Lipstick, Firecracker...      0.0   \n",
       "546   Kokie Professional Matte Lipstick, Kiss Me, 0....      0.0   \n",
       "2406           L.A. Colors Matte Lipstick, Tender Matte      3.0   \n",
       "4050  Kokie Professional Lip Poudre Liquid Matte Liq...      7.0   \n",
       "4084         e.l.f. Mad for Matte 4 Piece Lip Color Set      0.0   \n",
       "1559  LOreal Paris Colour Riche Matte Lip Liner, Mat...    495.0   \n",
       "2873  Kokie Professional Lip Poudre Liquid Matte Liq...      7.0   \n",
       "3023                           Be Matte Lipstick - Pink      2.0   \n",
       "\n",
       "                 Brand                                             ImgUrl  \\\n",
       "3406  kokie, cosmetics  https://i5.walmartimages.com/asr/8312221b-ed22...   \n",
       "546   kokie, cosmetics  https://i5.walmartimages.com/asr/27dd82a2-2b9c...   \n",
       "2406            colors  https://i5.walmartimages.com/asr/271264fb-e8c3...   \n",
       "4050  kokie, cosmetics  https://i5.walmartimages.com/asr/fdd7498c-319f...   \n",
       "4084         cosmetics  https://i5.walmartimages.com/asr/e2d30304-edc9...   \n",
       "1559             paris  https://i5.walmartimages.com/asr/baf97085-7231...   \n",
       "2873  kokie, cosmetics  https://i5.walmartimages.com/asr/31c99d9b-ea11...   \n",
       "3023       city, color  https://i5.walmartimages.com/asr/4425a13e-085f...   \n",
       "\n",
       "      Rating  \n",
       "3406     0.0  \n",
       "546      0.0  \n",
       "2406     3.7  \n",
       "4050     3.4  \n",
       "4084     0.0  \n",
       "1559     4.4  \n",
       "2873     3.4  \n",
       "3023     3.0  "
      ]
     },
     "execution_count": 125,
     "metadata": {},
     "output_type": "execute_result"
    }
   ],
   "source": [
    "# example\n",
    "item_name = 'Kokie Professional Matte Lipstick, Hot Berry, 0.14 fl oz'\n",
    "content_based_recs = get_content_based_recs(df_proc, item_name, 8)\n",
    "content_based_recs"
   ]
  },
  {
   "cell_type": "markdown",
   "id": "e561b208-f828-4db7-9ff0-3339605c4c67",
   "metadata": {},
   "source": [
    "# Collaborative Filtering"
   ]
  },
  {
   "cell_type": "code",
   "execution_count": 126,
   "id": "5a42d47a-1b11-4043-a5a0-f179740a63b9",
   "metadata": {},
   "outputs": [],
   "source": [
    "def get_collborative_filtering_recs(datax, target_user_id, top_count):\n",
    "    # create user item matrix\n",
    "    user_item_matrix = datax.pivot_table(index='Id', columns='ProdId', values='Rating', aggfunc='mean').fillna(0).astype(int)\n",
    "\n",
    "    # calculate the user similarity matrix using cosine similarity\n",
    "    user_sim = cosine_similarity(user_item_matrix)\n",
    "\n",
    "    # find the index of the target user in the matrix\n",
    "    target_user_index = user_item_matrix.index.get_loc(target_user_id)\n",
    "\n",
    "    # get the similarity of the target user in the matrix\n",
    "    user_sims = user_sim[target_user_index]\n",
    "\n",
    "    # sort the users by similarity in descending order (excluding the target user)\n",
    "    similar_user_indices = user_sims.argsort()[::-1][1:]\n",
    "\n",
    "    # generate recs based on similar users\n",
    "    rec_items = []\n",
    "\n",
    "    for user_index in similar_user_indices:\n",
    "        # get the items rated by similar user but not by the target user\n",
    "        rated_by_similar_user = user_item_matrix.iloc[user_index]\n",
    "        not_rated_by_target_user = (rated_by_similar_user==0) & (user_item_matrix.iloc[target_user_index]==0)\n",
    "\n",
    "        # extract the item ids of recommended items\n",
    "        rec_items.extend(user_item_matrix.columns[not_rated_by_target_user][:top_count])\n",
    "\n",
    "    # get the details of recommended items\n",
    "    rec_items_details = df_proc[df_proc['ProdId'].isin(rec_items)][['Name', 'Reviews', 'Brand', 'ImgUrl', 'Rating']]\n",
    "\n",
    "    return rec_items_details"
   ]
  },
  {
   "cell_type": "code",
   "execution_count": 127,
   "id": "111f4e6d-c2ab-4a7b-b3cc-90c399377db4",
   "metadata": {},
   "outputs": [
    {
     "name": "stdout",
     "output_type": "stream",
     "text": [
      "Top 5 recommendations for User 4:\n"
     ]
    },
    {
     "data": {
      "text/html": [
       "<div>\n",
       "<style scoped>\n",
       "    .dataframe tbody tr th:only-of-type {\n",
       "        vertical-align: middle;\n",
       "    }\n",
       "\n",
       "    .dataframe tbody tr th {\n",
       "        vertical-align: top;\n",
       "    }\n",
       "\n",
       "    .dataframe thead th {\n",
       "        text-align: right;\n",
       "    }\n",
       "</style>\n",
       "<table border=\"1\" class=\"dataframe\">\n",
       "  <thead>\n",
       "    <tr style=\"text-align: right;\">\n",
       "      <th></th>\n",
       "      <th>Name</th>\n",
       "      <th>Reviews</th>\n",
       "      <th>Brand</th>\n",
       "      <th>ImgUrl</th>\n",
       "      <th>Rating</th>\n",
       "    </tr>\n",
       "  </thead>\n",
       "  <tbody>\n",
       "    <tr>\n",
       "      <th>15</th>\n",
       "      <td>Clairol Natural Instincts Demi-Permanent Hair ...</td>\n",
       "      <td>2935.0</td>\n",
       "      <td>clairol</td>\n",
       "      <td>https://i5.walmartimages.com/asr/00a6e54a-e431...</td>\n",
       "      <td>3.7</td>\n",
       "    </tr>\n",
       "    <tr>\n",
       "      <th>33</th>\n",
       "      <td>DenTek Kids Fun Flossers, Removes Food &amp; Plaqu...</td>\n",
       "      <td>3.0</td>\n",
       "      <td>dentek</td>\n",
       "      <td>https://i5.walmartimages.com/asr/de6e52eb-6e18...</td>\n",
       "      <td>0.0</td>\n",
       "    </tr>\n",
       "    <tr>\n",
       "      <th>61</th>\n",
       "      <td>COVERGIRL Exhibitionist Cream Lipstick, 395 Da...</td>\n",
       "      <td>713.0</td>\n",
       "      <td>covergirl</td>\n",
       "      <td>https://i5.walmartimages.com/asr/95076ec0-ffbd...</td>\n",
       "      <td>4.3</td>\n",
       "    </tr>\n",
       "    <tr>\n",
       "      <th>64</th>\n",
       "      <td>Neutrogena SkinClearing Oil-Free Liquid Founda...</td>\n",
       "      <td>741.0</td>\n",
       "      <td>neutrogena</td>\n",
       "      <td>https://i5.walmartimages.com/asr/fd4d78d8-310a...</td>\n",
       "      <td>4.2</td>\n",
       "    </tr>\n",
       "    <tr>\n",
       "      <th>69</th>\n",
       "      <td>Design Essentials Natural Coconut &amp; Monoi Curl...</td>\n",
       "      <td>1.0</td>\n",
       "      <td>design, essentials</td>\n",
       "      <td>https://i5.walmartimages.com/asr/ff2dba1d-0c02...</td>\n",
       "      <td>5.0</td>\n",
       "    </tr>\n",
       "    <tr>\n",
       "      <th>...</th>\n",
       "      <td>...</td>\n",
       "      <td>...</td>\n",
       "      <td>...</td>\n",
       "      <td>...</td>\n",
       "      <td>...</td>\n",
       "    </tr>\n",
       "    <tr>\n",
       "      <th>4964</th>\n",
       "      <td>TENA Regular Absorbency Day Pad, Blue-Pack of 46</td>\n",
       "      <td>0.0</td>\n",
       "      <td>sca, personal, care</td>\n",
       "      <td>https://i5.walmartimages.com/asr/74750306-8afd...</td>\n",
       "      <td>0.0</td>\n",
       "    </tr>\n",
       "    <tr>\n",
       "      <th>4983</th>\n",
       "      <td>Covidien Simplicity Underpad - 7136CS - 23&amp;quo...</td>\n",
       "      <td>0.0</td>\n",
       "      <td>covidien</td>\n",
       "      <td>https://i5.walmartimages.com/asr/2b5ce91e-7b16...</td>\n",
       "      <td>0.0</td>\n",
       "    </tr>\n",
       "    <tr>\n",
       "      <th>4990</th>\n",
       "      <td>2 Pack - Crest 3D White Brilliance Fluoride An...</td>\n",
       "      <td>43.0</td>\n",
       "      <td>crest</td>\n",
       "      <td>https://i5.walmartimages.com/asr/5758fbaf-5515...</td>\n",
       "      <td>4.7</td>\n",
       "    </tr>\n",
       "    <tr>\n",
       "      <th>4996</th>\n",
       "      <td>Garnier Nutrisse Nourishing Hair Color Creme (...</td>\n",
       "      <td>7484.0</td>\n",
       "      <td>garnier</td>\n",
       "      <td>https://i5.walmartimages.com/asr/24d7a837-51f8...</td>\n",
       "      <td>3.9</td>\n",
       "    </tr>\n",
       "    <tr>\n",
       "      <th>4999</th>\n",
       "      <td>Foundation</td>\n",
       "      <td>438.0</td>\n",
       "      <td>covergirl</td>\n",
       "      <td>https://i5.walmartimages.com/asr/a76122fd-322a...</td>\n",
       "      <td>0.0</td>\n",
       "    </tr>\n",
       "  </tbody>\n",
       "</table>\n",
       "<p>470 rows × 5 columns</p>\n",
       "</div>"
      ],
      "text/plain": [
       "                                                   Name  Reviews  \\\n",
       "15    Clairol Natural Instincts Demi-Permanent Hair ...   2935.0   \n",
       "33    DenTek Kids Fun Flossers, Removes Food & Plaqu...      3.0   \n",
       "61    COVERGIRL Exhibitionist Cream Lipstick, 395 Da...    713.0   \n",
       "64    Neutrogena SkinClearing Oil-Free Liquid Founda...    741.0   \n",
       "69    Design Essentials Natural Coconut & Monoi Curl...      1.0   \n",
       "...                                                 ...      ...   \n",
       "4964   TENA Regular Absorbency Day Pad, Blue-Pack of 46      0.0   \n",
       "4983  Covidien Simplicity Underpad - 7136CS - 23&quo...      0.0   \n",
       "4990  2 Pack - Crest 3D White Brilliance Fluoride An...     43.0   \n",
       "4996  Garnier Nutrisse Nourishing Hair Color Creme (...   7484.0   \n",
       "4999                                         Foundation    438.0   \n",
       "\n",
       "                    Brand                                             ImgUrl  \\\n",
       "15                clairol  https://i5.walmartimages.com/asr/00a6e54a-e431...   \n",
       "33                 dentek  https://i5.walmartimages.com/asr/de6e52eb-6e18...   \n",
       "61              covergirl  https://i5.walmartimages.com/asr/95076ec0-ffbd...   \n",
       "64             neutrogena  https://i5.walmartimages.com/asr/fd4d78d8-310a...   \n",
       "69     design, essentials  https://i5.walmartimages.com/asr/ff2dba1d-0c02...   \n",
       "...                   ...                                                ...   \n",
       "4964  sca, personal, care  https://i5.walmartimages.com/asr/74750306-8afd...   \n",
       "4983             covidien  https://i5.walmartimages.com/asr/2b5ce91e-7b16...   \n",
       "4990                crest  https://i5.walmartimages.com/asr/5758fbaf-5515...   \n",
       "4996              garnier  https://i5.walmartimages.com/asr/24d7a837-51f8...   \n",
       "4999            covergirl  https://i5.walmartimages.com/asr/a76122fd-322a...   \n",
       "\n",
       "      Rating  \n",
       "15       3.7  \n",
       "33       0.0  \n",
       "61       4.3  \n",
       "64       4.2  \n",
       "69       5.0  \n",
       "...      ...  \n",
       "4964     0.0  \n",
       "4983     0.0  \n",
       "4990     4.7  \n",
       "4996     3.9  \n",
       "4999     0.0  \n",
       "\n",
       "[470 rows x 5 columns]"
      ]
     },
     "execution_count": 127,
     "metadata": {},
     "output_type": "execute_result"
    }
   ],
   "source": [
    "# example\n",
    "target_user_id = 4\n",
    "top_count = 5\n",
    "collaborative_filtering_rec = get_collborative_filtering_recs(df_proc, target_user_id, top_count)\n",
    "print(f'Top {top_count} recommendations for User {target_user_id}:')\n",
    "collaborative_filtering_rec"
   ]
  },
  {
   "cell_type": "markdown",
   "id": "234d0063-dc9c-4a24-b1ba-22bb553eef63",
   "metadata": {},
   "source": [
    "# Hybrid Recommendations"
   ]
  },
  {
   "cell_type": "code",
   "execution_count": 128,
   "id": "54c1338b-a75a-4df2-a996-e175812f58b9",
   "metadata": {},
   "outputs": [],
   "source": [
    "# hybrid recommedations (combine content-based and collaborative filtering)\n",
    "\n",
    "def get_hybrid_recs(datax, target_user_id, item_name, top_count):\n",
    "    # get content_based_recommendations\n",
    "    content_based_rec = get_content_based_recs(datax, item_name, top_count)\n",
    "\n",
    "    # get collaborative filtering recommendations\n",
    "    collaborative_filtering_rec = get_collborative_filtering_recs(datax, target_user_id, top_count)\n",
    "\n",
    "    # merge and remove duplicate recommendations\n",
    "    hybrid_rec = pd.concat([content_based_rec, collaborative_filtering_rec]).drop_duplicates()\n",
    "\n",
    "    return hybrid_rec.head(top_count)"
   ]
  },
  {
   "cell_type": "code",
   "execution_count": 129,
   "id": "520047c9-ef37-4af8-b5ac-38363cba53fa",
   "metadata": {},
   "outputs": [
    {
     "name": "stdout",
     "output_type": "stream",
     "text": [
      "Top 10 Hybrid Recommendations for User 5 and Item OPI Infinite Shine, Nail Lacquer Nail Polish, Bubble Bath:\n"
     ]
    },
    {
     "data": {
      "text/html": [
       "<div>\n",
       "<style scoped>\n",
       "    .dataframe tbody tr th:only-of-type {\n",
       "        vertical-align: middle;\n",
       "    }\n",
       "\n",
       "    .dataframe tbody tr th {\n",
       "        vertical-align: top;\n",
       "    }\n",
       "\n",
       "    .dataframe thead th {\n",
       "        text-align: right;\n",
       "    }\n",
       "</style>\n",
       "<table border=\"1\" class=\"dataframe\">\n",
       "  <thead>\n",
       "    <tr style=\"text-align: right;\">\n",
       "      <th></th>\n",
       "      <th>Name</th>\n",
       "      <th>Reviews</th>\n",
       "      <th>Brand</th>\n",
       "      <th>ImgUrl</th>\n",
       "      <th>Rating</th>\n",
       "    </tr>\n",
       "  </thead>\n",
       "  <tbody>\n",
       "    <tr>\n",
       "      <th>156</th>\n",
       "      <td>OPI Nail Lacquer Polish .5oz/15mL - This Gown ...</td>\n",
       "      <td>0.0</td>\n",
       "      <td>opi</td>\n",
       "      <td>https://i5.walmartimages.com/asr/71caed3f-5f83...</td>\n",
       "      <td>0.0</td>\n",
       "    </tr>\n",
       "    <tr>\n",
       "      <th>184</th>\n",
       "      <td>OPI Nail Gel Polish GelColor .5oz/15mL 3 CT Co...</td>\n",
       "      <td>0.0</td>\n",
       "      <td>opi</td>\n",
       "      <td>https://i5.walmartimages.com/asr/2d6f5147-53a8...</td>\n",
       "      <td>0.0</td>\n",
       "    </tr>\n",
       "    <tr>\n",
       "      <th>205</th>\n",
       "      <td>OPI Nail Lacquer - Dont Bossa Nova Me Around -...</td>\n",
       "      <td>0.0</td>\n",
       "      <td>opi</td>\n",
       "      <td>https://i5.walmartimages.com/asr/fd1195d2-8d8d...</td>\n",
       "      <td>0.0</td>\n",
       "    </tr>\n",
       "    <tr>\n",
       "      <th>237</th>\n",
       "      <td>OPI Infinite Shine 2 Polish - ISL P33 - Alpaca...</td>\n",
       "      <td>5.0</td>\n",
       "      <td>opi</td>\n",
       "      <td>https://i5.walmartimages.com/asr/7426eb5c-1690...</td>\n",
       "      <td>0.0</td>\n",
       "    </tr>\n",
       "    <tr>\n",
       "      <th>325</th>\n",
       "      <td>OPI Gel Polish Fall 2019 Scotland Collection G...</td>\n",
       "      <td>1.0</td>\n",
       "      <td>opi</td>\n",
       "      <td>https://i5.walmartimages.com/asr/79bbbd9f-9a89...</td>\n",
       "      <td>0.0</td>\n",
       "    </tr>\n",
       "    <tr>\n",
       "      <th>375</th>\n",
       "      <td>OPI Nail Gel Polish GelColor .5oz/15mL 3 CT Co...</td>\n",
       "      <td>1.0</td>\n",
       "      <td>opi</td>\n",
       "      <td>https://i5.walmartimages.com/asr/744e869c-3500...</td>\n",
       "      <td>5.0</td>\n",
       "    </tr>\n",
       "    <tr>\n",
       "      <th>402</th>\n",
       "      <td>OPI Nail Polish, Strawberry Margarita, 0.5 Fl Oz</td>\n",
       "      <td>57.0</td>\n",
       "      <td>opi</td>\n",
       "      <td>https://i5.walmartimages.com/asr/b95676e5-96ab...</td>\n",
       "      <td>4.4</td>\n",
       "    </tr>\n",
       "    <tr>\n",
       "      <th>706</th>\n",
       "      <td>OPI Nail Gel Polish GelColor .5oz/15mL 3 CT Co...</td>\n",
       "      <td>1.0</td>\n",
       "      <td>opi</td>\n",
       "      <td>https://i5.walmartimages.com/asr/c7ba4815-52f7...</td>\n",
       "      <td>5.0</td>\n",
       "    </tr>\n",
       "    <tr>\n",
       "      <th>886</th>\n",
       "      <td>OPI- Nail Lacquer-GelColor - &amp;quotLiv&amp;quotin t...</td>\n",
       "      <td>0.0</td>\n",
       "      <td>opi</td>\n",
       "      <td>https://i5.walmartimages.com/asr/98b4194c-e026...</td>\n",
       "      <td>0.0</td>\n",
       "    </tr>\n",
       "    <tr>\n",
       "      <th>1042</th>\n",
       "      <td>OPI GelColor Gel Nail Polish, Dulce De Leche, ...</td>\n",
       "      <td>1.0</td>\n",
       "      <td>opi</td>\n",
       "      <td>https://i5.walmartimages.com/asr/c1b2c370-b2d2...</td>\n",
       "      <td>0.0</td>\n",
       "    </tr>\n",
       "  </tbody>\n",
       "</table>\n",
       "</div>"
      ],
      "text/plain": [
       "                                                   Name  Reviews Brand  \\\n",
       "156   OPI Nail Lacquer Polish .5oz/15mL - This Gown ...      0.0   opi   \n",
       "184   OPI Nail Gel Polish GelColor .5oz/15mL 3 CT Co...      0.0   opi   \n",
       "205   OPI Nail Lacquer - Dont Bossa Nova Me Around -...      0.0   opi   \n",
       "237   OPI Infinite Shine 2 Polish - ISL P33 - Alpaca...      5.0   opi   \n",
       "325   OPI Gel Polish Fall 2019 Scotland Collection G...      1.0   opi   \n",
       "375   OPI Nail Gel Polish GelColor .5oz/15mL 3 CT Co...      1.0   opi   \n",
       "402    OPI Nail Polish, Strawberry Margarita, 0.5 Fl Oz     57.0   opi   \n",
       "706   OPI Nail Gel Polish GelColor .5oz/15mL 3 CT Co...      1.0   opi   \n",
       "886   OPI- Nail Lacquer-GelColor - &quotLiv&quotin t...      0.0   opi   \n",
       "1042  OPI GelColor Gel Nail Polish, Dulce De Leche, ...      1.0   opi   \n",
       "\n",
       "                                                 ImgUrl  Rating  \n",
       "156   https://i5.walmartimages.com/asr/71caed3f-5f83...     0.0  \n",
       "184   https://i5.walmartimages.com/asr/2d6f5147-53a8...     0.0  \n",
       "205   https://i5.walmartimages.com/asr/fd1195d2-8d8d...     0.0  \n",
       "237   https://i5.walmartimages.com/asr/7426eb5c-1690...     0.0  \n",
       "325   https://i5.walmartimages.com/asr/79bbbd9f-9a89...     0.0  \n",
       "375   https://i5.walmartimages.com/asr/744e869c-3500...     5.0  \n",
       "402   https://i5.walmartimages.com/asr/b95676e5-96ab...     4.4  \n",
       "706   https://i5.walmartimages.com/asr/c7ba4815-52f7...     5.0  \n",
       "886   https://i5.walmartimages.com/asr/98b4194c-e026...     0.0  \n",
       "1042  https://i5.walmartimages.com/asr/c1b2c370-b2d2...     0.0  "
      ]
     },
     "execution_count": 129,
     "metadata": {},
     "output_type": "execute_result"
    }
   ],
   "source": [
    "# example\n",
    "target_user_id = 5\n",
    "top_count = 10\n",
    "item_name = 'OPI Infinite Shine, Nail Lacquer Nail Polish, Bubble Bath'\n",
    "hybrid_rec = get_hybrid_recs(df_proc, target_user_id, item_name, top_count)\n",
    "print(f'Top {top_count} Hybrid Recommendations for User {target_user_id} and Item {item_name}:')\n",
    "hybrid_rec"
   ]
  },
  {
   "cell_type": "code",
   "execution_count": null,
   "id": "26dd8797-4bb9-42c2-903c-df8af324cb0b",
   "metadata": {},
   "outputs": [],
   "source": []
  }
 ],
 "metadata": {
  "kernelspec": {
   "display_name": "Python 3 (ipykernel)",
   "language": "python",
   "name": "python3"
  },
  "language_info": {
   "codemirror_mode": {
    "name": "ipython",
    "version": 3
   },
   "file_extension": ".py",
   "mimetype": "text/x-python",
   "name": "python",
   "nbconvert_exporter": "python",
   "pygments_lexer": "ipython3",
   "version": "3.12.3"
  }
 },
 "nbformat": 4,
 "nbformat_minor": 5
}
